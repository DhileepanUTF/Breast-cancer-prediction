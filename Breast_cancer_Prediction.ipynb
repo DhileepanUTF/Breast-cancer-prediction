{
  "nbformat": 4,
  "nbformat_minor": 0,
  "metadata": {
    "colab": {
      "name": "Breast_cancer_Prediction.ipynb",
      "provenance": [],
      "collapsed_sections": []
    },
    "kernelspec": {
      "name": "python3",
      "display_name": "Python 3"
    },
    "language_info": {
      "name": "python"
    }
  },
  "cells": [
    {
      "cell_type": "code",
      "metadata": {
        "id": "zJnlwdM4OWRw"
      },
      "source": [
        "import pandas as pd\n",
        "import numpy as np\n",
        "import matplotlib.pyplot as plt\n",
        "import seaborn as sns\n",
        "from sklearn.datasets import load_breast_cancer\n",
        "sample = load_breast_cancer()"
      ],
      "execution_count": null,
      "outputs": []
    },
    {
      "cell_type": "code",
      "metadata": {
        "colab": {
          "base_uri": "https://localhost:8080/"
        },
        "id": "FslBYjp7On8g",
        "outputId": "7755e1a1-8c84-40fc-ef22-bc5742b1a75d"
      },
      "source": [
        "print(sample.DESCR)\n"
      ],
      "execution_count": null,
      "outputs": [
        {
          "output_type": "stream",
          "text": [
            ".. _breast_cancer_dataset:\n",
            "\n",
            "Breast cancer wisconsin (diagnostic) dataset\n",
            "--------------------------------------------\n",
            "\n",
            "**Data Set Characteristics:**\n",
            "\n",
            "    :Number of Instances: 569\n",
            "\n",
            "    :Number of Attributes: 30 numeric, predictive attributes and the class\n",
            "\n",
            "    :Attribute Information:\n",
            "        - radius (mean of distances from center to points on the perimeter)\n",
            "        - texture (standard deviation of gray-scale values)\n",
            "        - perimeter\n",
            "        - area\n",
            "        - smoothness (local variation in radius lengths)\n",
            "        - compactness (perimeter^2 / area - 1.0)\n",
            "        - concavity (severity of concave portions of the contour)\n",
            "        - concave points (number of concave portions of the contour)\n",
            "        - symmetry \n",
            "        - fractal dimension (\"coastline approximation\" - 1)\n",
            "\n",
            "        The mean, standard error, and \"worst\" or largest (mean of the three\n",
            "        largest values) of these features were computed for each image,\n",
            "        resulting in 30 features.  For instance, field 3 is Mean Radius, field\n",
            "        13 is Radius SE, field 23 is Worst Radius.\n",
            "\n",
            "        - class:\n",
            "                - WDBC-Malignant\n",
            "                - WDBC-Benign\n",
            "\n",
            "    :Summary Statistics:\n",
            "\n",
            "    ===================================== ====== ======\n",
            "                                           Min    Max\n",
            "    ===================================== ====== ======\n",
            "    radius (mean):                        6.981  28.11\n",
            "    texture (mean):                       9.71   39.28\n",
            "    perimeter (mean):                     43.79  188.5\n",
            "    area (mean):                          143.5  2501.0\n",
            "    smoothness (mean):                    0.053  0.163\n",
            "    compactness (mean):                   0.019  0.345\n",
            "    concavity (mean):                     0.0    0.427\n",
            "    concave points (mean):                0.0    0.201\n",
            "    symmetry (mean):                      0.106  0.304\n",
            "    fractal dimension (mean):             0.05   0.097\n",
            "    radius (standard error):              0.112  2.873\n",
            "    texture (standard error):             0.36   4.885\n",
            "    perimeter (standard error):           0.757  21.98\n",
            "    area (standard error):                6.802  542.2\n",
            "    smoothness (standard error):          0.002  0.031\n",
            "    compactness (standard error):         0.002  0.135\n",
            "    concavity (standard error):           0.0    0.396\n",
            "    concave points (standard error):      0.0    0.053\n",
            "    symmetry (standard error):            0.008  0.079\n",
            "    fractal dimension (standard error):   0.001  0.03\n",
            "    radius (worst):                       7.93   36.04\n",
            "    texture (worst):                      12.02  49.54\n",
            "    perimeter (worst):                    50.41  251.2\n",
            "    area (worst):                         185.2  4254.0\n",
            "    smoothness (worst):                   0.071  0.223\n",
            "    compactness (worst):                  0.027  1.058\n",
            "    concavity (worst):                    0.0    1.252\n",
            "    concave points (worst):               0.0    0.291\n",
            "    symmetry (worst):                     0.156  0.664\n",
            "    fractal dimension (worst):            0.055  0.208\n",
            "    ===================================== ====== ======\n",
            "\n",
            "    :Missing Attribute Values: None\n",
            "\n",
            "    :Class Distribution: 212 - Malignant, 357 - Benign\n",
            "\n",
            "    :Creator:  Dr. William H. Wolberg, W. Nick Street, Olvi L. Mangasarian\n",
            "\n",
            "    :Donor: Nick Street\n",
            "\n",
            "    :Date: November, 1995\n",
            "\n",
            "This is a copy of UCI ML Breast Cancer Wisconsin (Diagnostic) datasets.\n",
            "https://goo.gl/U2Uwz2\n",
            "\n",
            "Features are computed from a digitized image of a fine needle\n",
            "aspirate (FNA) of a breast mass.  They describe\n",
            "characteristics of the cell nuclei present in the image.\n",
            "\n",
            "Separating plane described above was obtained using\n",
            "Multisurface Method-Tree (MSM-T) [K. P. Bennett, \"Decision Tree\n",
            "Construction Via Linear Programming.\" Proceedings of the 4th\n",
            "Midwest Artificial Intelligence and Cognitive Science Society,\n",
            "pp. 97-101, 1992], a classification method which uses linear\n",
            "programming to construct a decision tree.  Relevant features\n",
            "were selected using an exhaustive search in the space of 1-4\n",
            "features and 1-3 separating planes.\n",
            "\n",
            "The actual linear program used to obtain the separating plane\n",
            "in the 3-dimensional space is that described in:\n",
            "[K. P. Bennett and O. L. Mangasarian: \"Robust Linear\n",
            "Programming Discrimination of Two Linearly Inseparable Sets\",\n",
            "Optimization Methods and Software 1, 1992, 23-34].\n",
            "\n",
            "This database is also available through the UW CS ftp server:\n",
            "\n",
            "ftp ftp.cs.wisc.edu\n",
            "cd math-prog/cpo-dataset/machine-learn/WDBC/\n",
            "\n",
            ".. topic:: References\n",
            "\n",
            "   - W.N. Street, W.H. Wolberg and O.L. Mangasarian. Nuclear feature extraction \n",
            "     for breast tumor diagnosis. IS&T/SPIE 1993 International Symposium on \n",
            "     Electronic Imaging: Science and Technology, volume 1905, pages 861-870,\n",
            "     San Jose, CA, 1993.\n",
            "   - O.L. Mangasarian, W.N. Street and W.H. Wolberg. Breast cancer diagnosis and \n",
            "     prognosis via linear programming. Operations Research, 43(4), pages 570-577, \n",
            "     July-August 1995.\n",
            "   - W.H. Wolberg, W.N. Street, and O.L. Mangasarian. Machine learning techniques\n",
            "     to diagnose breast cancer from fine-needle aspirates. Cancer Letters 77 (1994) \n",
            "     163-171.\n"
          ],
          "name": "stdout"
        }
      ]
    },
    {
      "cell_type": "code",
      "metadata": {
        "colab": {
          "base_uri": "https://localhost:8080/"
        },
        "id": "7ZOkpzb7O0ok",
        "outputId": "2328887f-c6a6-42b4-d247-90b07d61bb12"
      },
      "source": [
        "features=sample.data\n",
        "target=sample.target\n",
        "#Print their shape\n",
        "\n",
        "print(features.shape)\n",
        "print(target.shape)"
      ],
      "execution_count": null,
      "outputs": [
        {
          "output_type": "stream",
          "text": [
            "(569, 30)\n",
            "(569,)\n"
          ],
          "name": "stdout"
        }
      ]
    },
    {
      "cell_type": "code",
      "metadata": {
        "colab": {
          "base_uri": "https://localhost:8080/"
        },
        "id": "Amlmb4HBQIp7",
        "outputId": "d341bdf3-3694-48ee-e4e6-5788091022f0"
      },
      "source": [
        "from sklearn.model_selection import train_test_split\n",
        "X_train,X_test,Y_train,Y_test=train_test_split(features,target,test_size=0.2)\n",
        "print(X_train.shape)\n",
        "print(Y_train.shape)\n",
        "print(X_test.shape)\n",
        "print(Y_test.shape)"
      ],
      "execution_count": null,
      "outputs": [
        {
          "output_type": "stream",
          "text": [
            "(455, 30)\n",
            "(455,)\n",
            "(114, 30)\n",
            "(114,)\n"
          ],
          "name": "stdout"
        }
      ]
    },
    {
      "cell_type": "code",
      "metadata": {
        "id": "8kUEQ0jHRRXi"
      },
      "source": [
        "from keras.models import Sequential\n",
        "from keras.layers import Dense\n",
        "model=Sequential()"
      ],
      "execution_count": null,
      "outputs": []
    },
    {
      "cell_type": "code",
      "metadata": {
        "colab": {
          "base_uri": "https://localhost:8080/"
        },
        "id": "LWM9tsd1SCp6",
        "outputId": "fcff12f6-efca-4bab-bf9c-0a767ab9cec4"
      },
      "source": [
        "#hidden layer 1\n",
        "model.add(Dense(32,activation=\"relu\",input_dim=30))#Input dim = 30 as there are 30 features in the datset\n",
        "#hidden layer 2\n",
        "model.add(Dense(64,activation=\"relu\"))\n",
        "#OP Layer\n",
        "model.add(Dense(1,activation=\"sigmoid\"))\n",
        "model.compile(optimizer=\"adam\",loss=\"binary_crossentropy\",metrics=['accuracy'])\n",
        "model.summary()"
      ],
      "execution_count": null,
      "outputs": [
        {
          "output_type": "stream",
          "text": [
            "Model: \"sequential_1\"\n",
            "_________________________________________________________________\n",
            "Layer (type)                 Output Shape              Param #   \n",
            "=================================================================\n",
            "dense_3 (Dense)              (None, 32)                992       \n",
            "_________________________________________________________________\n",
            "dense_4 (Dense)              (None, 64)                2112      \n",
            "_________________________________________________________________\n",
            "dense_5 (Dense)              (None, 1)                 65        \n",
            "=================================================================\n",
            "Total params: 3,169\n",
            "Trainable params: 3,169\n",
            "Non-trainable params: 0\n",
            "_________________________________________________________________\n"
          ],
          "name": "stdout"
        }
      ]
    },
    {
      "cell_type": "code",
      "metadata": {
        "colab": {
          "base_uri": "https://localhost:8080/"
        },
        "id": "lqS6PvBaTO63",
        "outputId": "eaeff413-65df-467f-a7c1-bd3d3ec3f0d7"
      },
      "source": [
        "model.fit(X_train,Y_train,epochs=10,batch_size=32)"
      ],
      "execution_count": null,
      "outputs": [
        {
          "output_type": "stream",
          "text": [
            "Epoch 1/10\n",
            "15/15 [==============================] - 1s 2ms/step - loss: 62.3209 - accuracy: 0.5898\n",
            "Epoch 2/10\n",
            "15/15 [==============================] - 0s 1ms/step - loss: 8.9552 - accuracy: 0.4621\n",
            "Epoch 3/10\n",
            "15/15 [==============================] - 0s 2ms/step - loss: 2.2532 - accuracy: 0.6736\n",
            "Epoch 4/10\n",
            "15/15 [==============================] - 0s 2ms/step - loss: 1.9669 - accuracy: 0.8229\n",
            "Epoch 5/10\n",
            "15/15 [==============================] - 0s 2ms/step - loss: 0.9258 - accuracy: 0.8273\n",
            "Epoch 6/10\n",
            "15/15 [==============================] - 0s 2ms/step - loss: 0.6341 - accuracy: 0.8395\n",
            "Epoch 7/10\n",
            "15/15 [==============================] - 0s 2ms/step - loss: 0.4907 - accuracy: 0.8640\n",
            "Epoch 8/10\n",
            "15/15 [==============================] - 0s 2ms/step - loss: 0.4246 - accuracy: 0.8766\n",
            "Epoch 9/10\n",
            "15/15 [==============================] - 0s 1ms/step - loss: 0.7222 - accuracy: 0.8355\n",
            "Epoch 10/10\n",
            "15/15 [==============================] - 0s 2ms/step - loss: 0.2985 - accuracy: 0.8955\n"
          ],
          "name": "stdout"
        },
        {
          "output_type": "execute_result",
          "data": {
            "text/plain": [
              "<keras.callbacks.History at 0x7f4f56befdd0>"
            ]
          },
          "metadata": {
            "tags": []
          },
          "execution_count": 28
        }
      ]
    },
    {
      "cell_type": "code",
      "metadata": {
        "colab": {
          "base_uri": "https://localhost:8080/"
        },
        "id": "9y3EtVd6TzC-",
        "outputId": "3a74d7a2-0159-494f-fb8e-b6fe76d2acf1"
      },
      "source": [
        "score=model.evaluate(X_test,Y_test)\n",
        "print(score)"
      ],
      "execution_count": null,
      "outputs": [
        {
          "output_type": "stream",
          "text": [
            "4/4 [==============================] - 0s 3ms/step - loss: 0.5709 - accuracy: 0.7807\n",
            "[0.5709319710731506, 0.780701756477356]\n"
          ],
          "name": "stdout"
        }
      ]
    },
    {
      "cell_type": "code",
      "metadata": {
        "colab": {
          "base_uri": "https://localhost:8080/"
        },
        "id": "0lBIxSmQT_zy",
        "outputId": "a2652cab-94d2-42f5-efda-083c3a6518b8"
      },
      "source": [
        "predictions = model.predict(X_test)\n",
        "label=[]\n",
        "for pred in predictions:\n",
        "  if pred > 0.5:\n",
        "    print(pred,\"Malignant\")\n",
        "  else:\n",
        "    print(pred,\"Beningn\")"
      ],
      "execution_count": null,
      "outputs": [
        {
          "output_type": "stream",
          "text": [
            "[0.817998] Malignant\n",
            "[1.0629014e-12] Beningn\n",
            "[0.75134397] Malignant\n",
            "[0.848016] Malignant\n",
            "[0.46363688] Beningn\n",
            "[1.05463656e-07] Beningn\n",
            "[0.33908182] Beningn\n",
            "[0.8283186] Malignant\n",
            "[0.63538337] Malignant\n",
            "[0.8900522] Malignant\n",
            "[4.8027138e-12] Beningn\n",
            "[0.00487447] Beningn\n",
            "[0.9327835] Malignant\n",
            "[1.3677258e-06] Beningn\n",
            "[2.939621e-09] Beningn\n",
            "[0.983354] Malignant\n",
            "[0.97544014] Malignant\n",
            "[0.970517] Malignant\n",
            "[0.3286726] Beningn\n",
            "[0.83954036] Malignant\n",
            "[0.76951563] Malignant\n",
            "[0.9609646] Malignant\n",
            "[2.1736017e-09] Beningn\n",
            "[0.33962744] Beningn\n",
            "[0.38281906] Beningn\n",
            "[0.8827106] Malignant\n",
            "[1.3813119e-05] Beningn\n",
            "[2.6393488e-21] Beningn\n",
            "[0.9884269] Malignant\n",
            "[0.93339694] Malignant\n",
            "[3.3858658e-05] Beningn\n",
            "[0.9366568] Malignant\n",
            "[0.00025731] Beningn\n",
            "[0.7712909] Malignant\n",
            "[0.97155523] Malignant\n",
            "[0.0019159] Beningn\n",
            "[0.8778651] Malignant\n",
            "[0.00030586] Beningn\n",
            "[3.9991596e-10] Beningn\n",
            "[0.8438016] Malignant\n",
            "[0.8276013] Malignant\n",
            "[0.9482125] Malignant\n",
            "[0.9129084] Malignant\n",
            "[0.8918652] Malignant\n",
            "[0.9448775] Malignant\n",
            "[0.64953876] Malignant\n",
            "[0.19170395] Beningn\n",
            "[0.89919543] Malignant\n",
            "[0.8848269] Malignant\n",
            "[0.01147658] Beningn\n",
            "[0.77881825] Malignant\n",
            "[6.259752e-23] Beningn\n",
            "[0.20023683] Beningn\n",
            "[2.2180962e-09] Beningn\n",
            "[7.0206324e-06] Beningn\n",
            "[8.580146e-10] Beningn\n",
            "[0.9339629] Malignant\n",
            "[0.22207612] Beningn\n",
            "[0.88964844] Malignant\n",
            "[0.00621608] Beningn\n",
            "[0.9447223] Malignant\n",
            "[0.4631607] Beningn\n",
            "[5.3868333e-12] Beningn\n",
            "[0.97084033] Malignant\n",
            "[0.9947516] Malignant\n",
            "[0.8130709] Malignant\n",
            "[0.97766066] Malignant\n",
            "[1.0570623e-05] Beningn\n",
            "[0.6745013] Malignant\n",
            "[0.00050399] Beningn\n",
            "[0.94889545] Malignant\n",
            "[1.9760884e-05] Beningn\n",
            "[0.21153706] Beningn\n",
            "[5.504381e-06] Beningn\n",
            "[0.00040904] Beningn\n",
            "[0.71521354] Malignant\n",
            "[0.91210926] Malignant\n",
            "[0.89705473] Malignant\n",
            "[2.4496357e-14] Beningn\n",
            "[0.82176715] Malignant\n",
            "[1.4102228e-12] Beningn\n",
            "[0.58126783] Malignant\n",
            "[0.09056789] Beningn\n",
            "[0.97956485] Malignant\n",
            "[0.32529116] Beningn\n",
            "[0.47624573] Beningn\n",
            "[0.8826324] Malignant\n",
            "[0.8141504] Malignant\n",
            "[0.98115605] Malignant\n",
            "[0.5283519] Malignant\n",
            "[0.19882387] Beningn\n",
            "[3.2531813e-24] Beningn\n",
            "[2.7613435e-06] Beningn\n",
            "[0.9333599] Malignant\n",
            "[0.0033263] Beningn\n",
            "[0.95391095] Malignant\n",
            "[0.81104666] Malignant\n",
            "[0.00017777] Beningn\n",
            "[0.19687146] Beningn\n",
            "[0.96340096] Malignant\n",
            "[0.41837484] Beningn\n",
            "[0.81100047] Malignant\n",
            "[0.00209221] Beningn\n",
            "[0.0039216] Beningn\n",
            "[0.40060928] Beningn\n",
            "[0.87831676] Malignant\n",
            "[0.9788993] Malignant\n",
            "[0.02811447] Beningn\n",
            "[0.00015098] Beningn\n",
            "[0.00099599] Beningn\n",
            "[0.40294454] Beningn\n",
            "[0.] Beningn\n",
            "[0.96430993] Malignant\n",
            "[0.1530323] Beningn\n"
          ],
          "name": "stdout"
        }
      ]
    }
  ]
}